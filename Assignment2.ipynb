{
 "cells": [
  {
   "cell_type": "code",
   "execution_count": 73,
   "id": "40472a2a-92f5-484d-aca8-d7e50fb09116",
   "metadata": {},
   "outputs": [],
   "source": [
    "#Assignment 2: Problems 1a, 1b, 2a, 2b, 3a, and 3b"
   ]
  },
  {
   "cell_type": "code",
   "execution_count": 97,
   "id": "d8b540eb-594a-44be-84e7-40d8c855a7ea",
   "metadata": {},
   "outputs": [],
   "source": [
    "#All Libraries needed to complete assingment are imported below\n",
    "\n",
    "import numpy as np\n",
    "import pandas as pd\n",
    "import matplotlib.pyplot as plt\n",
    "from sklearn.model_selection import train_test_split\n",
    "from sklearn.preprocessing import StandardScaler, MinMaxScaler"
   ]
  },
  {
   "cell_type": "code",
   "execution_count": 98,
   "id": "6fb3d962-d877-439e-9aab-7ca4855a5e93",
   "metadata": {},
   "outputs": [],
   "source": [
    "#Importing file from local directory\n",
    "\n",
    "file_path = 'C:/Users/nicocorb/Downloads/ECGR4105/Housing.csv'\n",
    "df = pd.read_csv(file_path)"
   ]
  },
  {
   "cell_type": "code",
   "execution_count": 99,
   "id": "84bb9202-8ff1-4326-a3c7-91a3f6456de8",
   "metadata": {},
   "outputs": [
    {
     "data": {
      "text/html": [
       "<div>\n",
       "<style scoped>\n",
       "    .dataframe tbody tr th:only-of-type {\n",
       "        vertical-align: middle;\n",
       "    }\n",
       "\n",
       "    .dataframe tbody tr th {\n",
       "        vertical-align: top;\n",
       "    }\n",
       "\n",
       "    .dataframe thead th {\n",
       "        text-align: right;\n",
       "    }\n",
       "</style>\n",
       "<table border=\"1\" class=\"dataframe\">\n",
       "  <thead>\n",
       "    <tr style=\"text-align: right;\">\n",
       "      <th></th>\n",
       "      <th>price</th>\n",
       "      <th>area</th>\n",
       "      <th>bedrooms</th>\n",
       "      <th>bathrooms</th>\n",
       "      <th>stories</th>\n",
       "      <th>mainroad</th>\n",
       "      <th>guestroom</th>\n",
       "      <th>basement</th>\n",
       "      <th>hotwaterheating</th>\n",
       "      <th>airconditioning</th>\n",
       "      <th>parking</th>\n",
       "      <th>prefarea</th>\n",
       "      <th>furnishingstatus</th>\n",
       "    </tr>\n",
       "  </thead>\n",
       "  <tbody>\n",
       "    <tr>\n",
       "      <th>0</th>\n",
       "      <td>13300000</td>\n",
       "      <td>7420</td>\n",
       "      <td>4</td>\n",
       "      <td>2</td>\n",
       "      <td>3</td>\n",
       "      <td>yes</td>\n",
       "      <td>no</td>\n",
       "      <td>no</td>\n",
       "      <td>no</td>\n",
       "      <td>yes</td>\n",
       "      <td>2</td>\n",
       "      <td>yes</td>\n",
       "      <td>furnished</td>\n",
       "    </tr>\n",
       "    <tr>\n",
       "      <th>1</th>\n",
       "      <td>12250000</td>\n",
       "      <td>8960</td>\n",
       "      <td>4</td>\n",
       "      <td>4</td>\n",
       "      <td>4</td>\n",
       "      <td>yes</td>\n",
       "      <td>no</td>\n",
       "      <td>no</td>\n",
       "      <td>no</td>\n",
       "      <td>yes</td>\n",
       "      <td>3</td>\n",
       "      <td>no</td>\n",
       "      <td>furnished</td>\n",
       "    </tr>\n",
       "    <tr>\n",
       "      <th>2</th>\n",
       "      <td>12250000</td>\n",
       "      <td>9960</td>\n",
       "      <td>3</td>\n",
       "      <td>2</td>\n",
       "      <td>2</td>\n",
       "      <td>yes</td>\n",
       "      <td>no</td>\n",
       "      <td>yes</td>\n",
       "      <td>no</td>\n",
       "      <td>no</td>\n",
       "      <td>2</td>\n",
       "      <td>yes</td>\n",
       "      <td>semi-furnished</td>\n",
       "    </tr>\n",
       "    <tr>\n",
       "      <th>3</th>\n",
       "      <td>12215000</td>\n",
       "      <td>7500</td>\n",
       "      <td>4</td>\n",
       "      <td>2</td>\n",
       "      <td>2</td>\n",
       "      <td>yes</td>\n",
       "      <td>no</td>\n",
       "      <td>yes</td>\n",
       "      <td>no</td>\n",
       "      <td>yes</td>\n",
       "      <td>3</td>\n",
       "      <td>yes</td>\n",
       "      <td>furnished</td>\n",
       "    </tr>\n",
       "    <tr>\n",
       "      <th>4</th>\n",
       "      <td>11410000</td>\n",
       "      <td>7420</td>\n",
       "      <td>4</td>\n",
       "      <td>1</td>\n",
       "      <td>2</td>\n",
       "      <td>yes</td>\n",
       "      <td>yes</td>\n",
       "      <td>yes</td>\n",
       "      <td>no</td>\n",
       "      <td>yes</td>\n",
       "      <td>2</td>\n",
       "      <td>no</td>\n",
       "      <td>furnished</td>\n",
       "    </tr>\n",
       "  </tbody>\n",
       "</table>\n",
       "</div>"
      ],
      "text/plain": [
       "      price  area  bedrooms  bathrooms  stories mainroad guestroom basement  \\\n",
       "0  13300000  7420         4          2        3      yes        no       no   \n",
       "1  12250000  8960         4          4        4      yes        no       no   \n",
       "2  12250000  9960         3          2        2      yes        no      yes   \n",
       "3  12215000  7500         4          2        2      yes        no      yes   \n",
       "4  11410000  7420         4          1        2      yes       yes      yes   \n",
       "\n",
       "  hotwaterheating airconditioning  parking prefarea furnishingstatus  \n",
       "0              no             yes        2      yes        furnished  \n",
       "1              no             yes        3       no        furnished  \n",
       "2              no              no        2      yes   semi-furnished  \n",
       "3              no             yes        3      yes        furnished  \n",
       "4              no             yes        2       no        furnished  "
      ]
     },
     "execution_count": 99,
     "metadata": {},
     "output_type": "execute_result"
    }
   ],
   "source": [
    "df.head() #checking first 5 rows to verify my csv has imported correctly"
   ]
  },
  {
   "cell_type": "code",
   "execution_count": 100,
   "id": "9fd7be82-1d57-4ba8-a75b-3ae78de198e0",
   "metadata": {},
   "outputs": [
    {
     "data": {
      "text/plain": [
       "545"
      ]
     },
     "execution_count": 100,
     "metadata": {},
     "output_type": "execute_result"
    }
   ],
   "source": [
    "m = len(df) #Retreiving number of rows\n",
    "m"
   ]
  },
  {
   "cell_type": "code",
   "execution_count": 101,
   "id": "19cc2ce4-2ee3-4c04-8636-fe509ffe84e3",
   "metadata": {
    "scrolled": true
   },
   "outputs": [
    {
     "data": {
      "text/html": [
       "<div>\n",
       "<style scoped>\n",
       "    .dataframe tbody tr th:only-of-type {\n",
       "        vertical-align: middle;\n",
       "    }\n",
       "\n",
       "    .dataframe tbody tr th {\n",
       "        vertical-align: top;\n",
       "    }\n",
       "\n",
       "    .dataframe thead th {\n",
       "        text-align: right;\n",
       "    }\n",
       "</style>\n",
       "<table border=\"1\" class=\"dataframe\">\n",
       "  <thead>\n",
       "    <tr style=\"text-align: right;\">\n",
       "      <th></th>\n",
       "      <th>price</th>\n",
       "      <th>area</th>\n",
       "      <th>bedrooms</th>\n",
       "      <th>bathrooms</th>\n",
       "      <th>stories</th>\n",
       "      <th>parking</th>\n",
       "    </tr>\n",
       "  </thead>\n",
       "  <tbody>\n",
       "    <tr>\n",
       "      <th>count</th>\n",
       "      <td>5.450000e+02</td>\n",
       "      <td>545.000000</td>\n",
       "      <td>545.000000</td>\n",
       "      <td>545.000000</td>\n",
       "      <td>545.000000</td>\n",
       "      <td>545.000000</td>\n",
       "    </tr>\n",
       "    <tr>\n",
       "      <th>mean</th>\n",
       "      <td>4.766729e+06</td>\n",
       "      <td>5150.541284</td>\n",
       "      <td>2.965138</td>\n",
       "      <td>1.286239</td>\n",
       "      <td>1.805505</td>\n",
       "      <td>0.693578</td>\n",
       "    </tr>\n",
       "    <tr>\n",
       "      <th>std</th>\n",
       "      <td>1.870440e+06</td>\n",
       "      <td>2170.141023</td>\n",
       "      <td>0.738064</td>\n",
       "      <td>0.502470</td>\n",
       "      <td>0.867492</td>\n",
       "      <td>0.861586</td>\n",
       "    </tr>\n",
       "    <tr>\n",
       "      <th>min</th>\n",
       "      <td>1.750000e+06</td>\n",
       "      <td>1650.000000</td>\n",
       "      <td>1.000000</td>\n",
       "      <td>1.000000</td>\n",
       "      <td>1.000000</td>\n",
       "      <td>0.000000</td>\n",
       "    </tr>\n",
       "    <tr>\n",
       "      <th>25%</th>\n",
       "      <td>3.430000e+06</td>\n",
       "      <td>3600.000000</td>\n",
       "      <td>2.000000</td>\n",
       "      <td>1.000000</td>\n",
       "      <td>1.000000</td>\n",
       "      <td>0.000000</td>\n",
       "    </tr>\n",
       "    <tr>\n",
       "      <th>50%</th>\n",
       "      <td>4.340000e+06</td>\n",
       "      <td>4600.000000</td>\n",
       "      <td>3.000000</td>\n",
       "      <td>1.000000</td>\n",
       "      <td>2.000000</td>\n",
       "      <td>0.000000</td>\n",
       "    </tr>\n",
       "    <tr>\n",
       "      <th>75%</th>\n",
       "      <td>5.740000e+06</td>\n",
       "      <td>6360.000000</td>\n",
       "      <td>3.000000</td>\n",
       "      <td>2.000000</td>\n",
       "      <td>2.000000</td>\n",
       "      <td>1.000000</td>\n",
       "    </tr>\n",
       "    <tr>\n",
       "      <th>max</th>\n",
       "      <td>1.330000e+07</td>\n",
       "      <td>16200.000000</td>\n",
       "      <td>6.000000</td>\n",
       "      <td>4.000000</td>\n",
       "      <td>4.000000</td>\n",
       "      <td>3.000000</td>\n",
       "    </tr>\n",
       "  </tbody>\n",
       "</table>\n",
       "</div>"
      ],
      "text/plain": [
       "              price          area    bedrooms   bathrooms     stories  \\\n",
       "count  5.450000e+02    545.000000  545.000000  545.000000  545.000000   \n",
       "mean   4.766729e+06   5150.541284    2.965138    1.286239    1.805505   \n",
       "std    1.870440e+06   2170.141023    0.738064    0.502470    0.867492   \n",
       "min    1.750000e+06   1650.000000    1.000000    1.000000    1.000000   \n",
       "25%    3.430000e+06   3600.000000    2.000000    1.000000    1.000000   \n",
       "50%    4.340000e+06   4600.000000    3.000000    1.000000    2.000000   \n",
       "75%    5.740000e+06   6360.000000    3.000000    2.000000    2.000000   \n",
       "max    1.330000e+07  16200.000000    6.000000    4.000000    4.000000   \n",
       "\n",
       "          parking  \n",
       "count  545.000000  \n",
       "mean     0.693578  \n",
       "std      0.861586  \n",
       "min      0.000000  \n",
       "25%      0.000000  \n",
       "50%      0.000000  \n",
       "75%      1.000000  \n",
       "max      3.000000  "
      ]
     },
     "execution_count": 101,
     "metadata": {},
     "output_type": "execute_result"
    }
   ],
   "source": [
    "df.describe() #Taking a look at csv descriptions before processing"
   ]
  },
  {
   "cell_type": "code",
   "execution_count": 111,
   "id": "337e6fea-66c0-422f-bae4-5d716b0274c1",
   "metadata": {},
   "outputs": [],
   "source": [
    "#Pre processing function to split parameters into proper arrays\n",
    "\n",
    "#Defining scaling function to be used \n",
    "def scale_features(X, method='none'):\n",
    "    if method == 'standardize':\n",
    "        scaler = StandardScaler()\n",
    "        X_scaled = scaler.fit_transform(X)\n",
    "    elif method == 'normalize':\n",
    "        scaler = MinMaxScaler()\n",
    "        X_scaled = scaler.fit_transform(X)\n",
    "    else:\n",
    "        X_scaled = X\n",
    "        scaler = None\n",
    "    return X_scaled, scaler\n",
    "\n",
    "#pre process function\n",
    "def pre_processing(df, features, target, scale_method='none'):\n",
    "    #retrieve copy so to not alter original data set\n",
    "    df = df.copy()\n",
    "\n",
    "    #one-hot encodeing \n",
    "    df = pd.get_dummies(df, columns=df.select_dtypes(include='object').columns, drop_first=True)\n",
    "\n",
    "    #extract features and added bias turm for theta0\n",
    "    X = df[features].values\n",
    "\n",
    "    #Apply scaling if necessary and then adding bias\n",
    "    X, scaler = scale_features(X, method=scale_method)\n",
    "    X = np.column_stack((np.ones((X.shape[0], 1)), X))\n",
    "\n",
    "    #extract target as column vector\n",
    "    y = df[target].values.reshape(-1, 1)\n",
    "\n",
    "    #split data into training and test sets\n",
    "    X_train, X_val, y_train, y_val = train_test_split(X, y, test_size=0.2, random_state=42)\n",
    "    return X_train, X_val, y_train, y_val, scaler"
   ]
  },
  {
   "cell_type": "code",
   "execution_count": 112,
   "id": "4a1c65de-67b7-43b9-9c80-dfe2373b19d2",
   "metadata": {},
   "outputs": [],
   "source": [
    "#Cost and gradient descent functions to be used for processing machine learning data\n",
    "\n",
    "#Computing cost function for linear regression\n",
    "def compute_cost(X, y, theta):\n",
    "    predictions = X.dot(theta)\n",
    "    errors = predictions - y\n",
    "    sqr_errors = np.square(errors)\n",
    "    J = 1 / (2 * m) * np.sum(sqr_errors)\n",
    "    return J\n",
    "\n",
    "#Defining the gradient descent function\n",
    "def gradient_descent(X, y, theta, alpha, iterations):\n",
    "    cost_history = np.zeros(iterations)\n",
    "    \n",
    "    for i in range(iterations):\n",
    "        predictions = X.dot(theta)\n",
    "        errors = predictions - y\n",
    "        sum_delta = (alpha / m) * X.transpose().dot(errors)\n",
    "        theta = theta - sum_delta\n",
    "        cost_history[i] = compute_cost(X, y, theta)\n",
    "    return theta, cost_history"
   ]
  },
  {
   "cell_type": "code",
   "execution_count": 113,
   "id": "34da4915-fbf0-4cc7-ba9f-7bad3e0afbcc",
   "metadata": {},
   "outputs": [],
   "source": [
    "#Now I can use a train and plot function to complete the process w/ out normalization\n",
    "\n",
    "#Train and plot function\n",
    "def train_model_and_plot(df, features, target, alpha=0.01, iterations=1000, scale_method='none'):\n",
    "    #Run preprocessing\n",
    "    X_train, X_val, y_train, y_val, scaler = pre_processing(df, features, target, scale_method=scale_method)\n",
    "\n",
    "    #Initialize theta and train\n",
    "    theta = np.zeros((X_train.shape[1], 1))\n",
    "    theta, train_loss = gradient_descent(X_train, y_train, theta, alpha, iterations)\n",
    "\n",
    "    #Validation loss calculation\n",
    "    val_loss = []\n",
    "    for i in range(iterations):\n",
    "        val_loss.append(compute_cost(X_val, y_val, theta))\n",
    "\n",
    "    #Plotting\n",
    "    # Plot\n",
    "    plt.figure(figsize=(10, 6))\n",
    "    plt.plot(range(iterations), train_loss, label=\"Training Loss\", color=\"blue\")\n",
    "    plt.plot(range(iterations), val_loss, label=\"Validation Loss\", color=\"orange\")\n",
    "    plt.xlabel(\"Iterations\")\n",
    "    plt.ylabel(\"Cost\")\n",
    "    plt.title(\"Training vs Validation Loss\")\n",
    "    plt.legend()\n",
    "    plt.grid(True)\n",
    "    plt.tight_layout()\n",
    "    plt.show()\n",
    "\n",
    "    return theta"
   ]
  },
  {
   "cell_type": "code",
   "execution_count": 114,
   "id": "d4e90ab1-0691-451a-9e27-d5ef9f4df9f3",
   "metadata": {},
   "outputs": [
    {
     "name": "stdout",
     "output_type": "stream",
     "text": [
      "Problem 1a\n"
     ]
    },
    {
     "name": "stderr",
     "output_type": "stream",
     "text": [
      "C:\\Users\\nicocorb\\AppData\\Local\\Temp\\ipykernel_42076\\3906653465.py:7: RuntimeWarning: overflow encountered in square\n",
      "  sqr_errors = np.square(errors)\n",
      "C:\\Users\\nicocorb\\AppData\\Local\\Temp\\ipykernel_42076\\3906653465.py:18: RuntimeWarning: overflow encountered in dot\n",
      "  sum_delta = (alpha / m) * X.transpose().dot(errors)\n",
      "C:\\Users\\nicocorb\\AppData\\Local\\Temp\\ipykernel_42076\\3906653465.py:5: RuntimeWarning: invalid value encountered in dot\n",
      "  predictions = X.dot(theta)\n",
      "C:\\Users\\nicocorb\\AppData\\Local\\Temp\\ipykernel_42076\\3906653465.py:16: RuntimeWarning: invalid value encountered in dot\n",
      "  predictions = X.dot(theta)\n"
     ]
    },
    {
     "data": {
      "image/png": "[encoded data removed]",
      "text/plain": [
       "<Figure size 1000x600 with 1 Axes>"
      ]
     },
     "metadata": {},
     "output_type": "display_data"
    }
   ],
   "source": [
    "#Problem 1a solution\n",
    "features = ['area', 'bedrooms', 'bathrooms', 'stories', 'parking']\n",
    "target = 'price'\n",
    "\n",
    "print('Problem 1a')\n",
    "\n",
    "theta1a = train_model_and_plot(df, features, target, alpha=0.001, iterations=1000, scale_method='none')"
   ]
  },
  {
   "cell_type": "code",
   "execution_count": 115,
   "id": "458901d2-efc1-4cf1-9e90-05f521600813",
   "metadata": {},
   "outputs": [
    {
     "name": "stdout",
     "output_type": "stream",
     "text": [
      "Problem 1b\n"
     ]
    },
    {
     "name": "stderr",
     "output_type": "stream",
     "text": [
      "C:\\Users\\nicocorb\\AppData\\Local\\Temp\\ipykernel_42076\\3906653465.py:7: RuntimeWarning: overflow encountered in square\n",
      "  sqr_errors = np.square(errors)\n",
      "C:\\Users\\nicocorb\\AppData\\Local\\Programs\\Python\\Python313\\Lib\\site-packages\\numpy\\_core\\fromnumeric.py:86: RuntimeWarning: overflow encountered in reduce\n",
      "  return ufunc.reduce(obj, axis, dtype, out, **passkwargs)\n",
      "C:\\Users\\nicocorb\\AppData\\Local\\Temp\\ipykernel_42076\\3906653465.py:18: RuntimeWarning: overflow encountered in dot\n",
      "  sum_delta = (alpha / m) * X.transpose().dot(errors)\n",
      "C:\\Users\\nicocorb\\AppData\\Local\\Temp\\ipykernel_42076\\3906653465.py:5: RuntimeWarning: invalid value encountered in dot\n",
      "  predictions = X.dot(theta)\n",
      "C:\\Users\\nicocorb\\AppData\\Local\\Temp\\ipykernel_42076\\3906653465.py:16: RuntimeWarning: invalid value encountered in dot\n",
      "  predictions = X.dot(theta)\n"
     ]
    },
    {
     "data": {
      "image/png": "[encoded data removed]",
      "text/plain": [
       "<Figure size 1000x600 with 1 Axes>"
      ]
     },
     "metadata": {},
     "output_type": "display_data"
    }
   ],
   "source": [
    "#Problem 1b solution\n",
    "features1b = ['area', 'bedrooms', 'bathrooms', 'stories', 'mainroad_yes', 'guestroom_yes', 'basement_yes', 'hotwaterheating_yes', 'airconditioning_yes', 'parking', 'prefarea_yes']\n",
    "target = 'price'\n",
    "\n",
    "print('Problem 1b')\n",
    "\n",
    "#encoding all objects\n",
    "df_encoded = pd.get_dummies(df, drop_first=True)\n",
    "\n",
    "theta1b = train_model_and_plot(df_encoded, features1b, target, alpha=0.1, iterations=1000, scale_method='none')"
   ]
  },
  {
   "cell_type": "code",
   "execution_count": 116,
   "id": "11e6df28-847f-4faf-8e4e-ce5c1a4c08f0",
   "metadata": {},
   "outputs": [],
   "source": [
    "#Problem 2"
   ]
  },
  {
   "cell_type": "code",
   "execution_count": 125,
   "id": "50471575-4bd2-47d3-a2c1-550464da196e",
   "metadata": {},
   "outputs": [
    {
     "name": "stdout",
     "output_type": "stream",
     "text": [
      "Problem 2a\n"
     ]
    },
    {
     "data": {
      "image/png": "[encoded data removed]",
      "text/plain": [
       "<Figure size 1000x600 with 1 Axes>"
      ]
     },
     "metadata": {},
     "output_type": "display_data"
    }
   ],
   "source": [
    "#Problem 2a solution for normalization\n",
    "features2b = ['area', 'bedrooms', 'bathrooms', 'stories', 'parking']\n",
    "target = 'price'\n",
    "\n",
    "print('Problem 2a')\n",
    "\n",
    "theta1a = train_model_and_plot(df, features2b, target, alpha=0.1, iterations=1000, scale_method='normalize')"
   ]
  },
  {
   "cell_type": "code",
   "execution_count": 132,
   "id": "996df4d1-db68-406c-8dd8-035f543ca28a",
   "metadata": {},
   "outputs": [
    {
     "name": "stdout",
     "output_type": "stream",
     "text": [
      "Problem 2b\n"
     ]
    },
    {
     "data": {
      "image/png": "[encoded data removed]",
      "text/plain": [
       "<Figure size 1000x600 with 1 Axes>"
      ]
     },
     "metadata": {},
     "output_type": "display_data"
    }
   ],
   "source": [
    "#Problem 2b solution for standardization\n",
    "features2b = ['area', 'bedrooms', 'bathrooms', 'stories', 'mainroad_yes', 'guestroom_yes', 'basement_yes', 'hotwaterheating_yes', 'airconditioning_yes', 'parking', 'prefarea_yes']\n",
    "target = 'price'\n",
    "\n",
    "print('Problem 2b')\n",
    "\n",
    "#encoding all objects\n",
    "df_encoded = pd.get_dummies(df, drop_first=True)\n",
    "\n",
    "theta1b = train_model_and_plot(df_encoded, features2b, target, alpha=0.1, iterations=1000, scale_method='standardize')"
   ]
  },
  {
   "cell_type": "code",
   "execution_count": 134,
   "id": "99e83127-3486-4371-8fb4-5319921ee425",
   "metadata": {},
   "outputs": [],
   "source": [
    "#Updating gradient descent function and plotting function to incorporate lambda for regularization\n",
    "\n",
    "#Updated gradient descent function\n",
    "def gradient_descent_2(X, y, theta, alpha, iterations, lambda_):\n",
    "    m = len(y)\n",
    "    cost_history = []\n",
    "\n",
    "    for i in range(iterations):\n",
    "        predictions = X.dot(theta)\n",
    "        errors = predictions - y\n",
    "\n",
    "        # Regularization term (don't regularize bias term θ₀)\n",
    "        reg_term = (lambda_ / m) * np.copy(theta)\n",
    "        reg_term[0] = 0  # no regularization for bias term\n",
    "\n",
    "        gradient = (1 / m) * (X.T.dot(errors)) + reg_term\n",
    "        theta -= alpha * gradient\n",
    "\n",
    "        # Note: for evaluation set, do not include the regularization term in cost\n",
    "        cost = (1 / (2 * m)) * np.sum(np.square(errors))\n",
    "        cost_history.append(cost)\n",
    "\n",
    "    return theta, cost_history\n",
    "\n",
    "#Updated plot function\n",
    "def train_model_and_plot_2(df, features, target, scale_method='standardize', alpha=0.01, iterations=1000, lambda_=0.1):\n",
    "    X_train, X_val, y_train, y_val, _ = pre_processing(df, features, target, scale_method)\n",
    "\n",
    "    theta = np.zeros((X_train.shape[1], 1))\n",
    "    theta, train_loss = gradient_descent_l2(X_train, y_train, theta, alpha, iterations, lambda_)\n",
    "\n",
    "    val_loss = [compute_cost(X_val, y_val, theta)] * iterations  # eval cost without regularization\n",
    "\n",
    "    # Plot\n",
    "    plt.figure(figsize=(10, 6))\n",
    "    plt.plot(train_loss, label=\"Training Loss\")\n",
    "    plt.plot(val_loss, '--', label=\"Validation Loss\")\n",
    "    plt.xlabel(\"Iterations\")\n",
    "    plt.ylabel(\"Cost\")\n",
    "    plt.title(f\"Problem 3 - L2 Regularization ({scale_method})\")\n",
    "    plt.legend()\n",
    "    plt.grid(True)\n",
    "    plt.show()\n",
    "\n",
    "    return theta"
   ]
  },
  {
   "cell_type": "code",
   "execution_count": 135,
   "id": "69bef586-ea18-407b-97da-30b99371eed6",
   "metadata": {},
   "outputs": [],
   "source": [
    "#Probelem 3"
   ]
  },
  {
   "cell_type": "code",
   "execution_count": null,
   "id": "fb4dd566-b139-4de8-9d9d-23ad7d5da07c",
   "metadata": {},
   "outputs": [],
   "source": [
    "#Problem 3a solution for normalization\n",
    "features2b = ['area', 'bedrooms', 'bathrooms', 'stories', 'parking']\n",
    "target = 'price'\n",
    "\n",
    "print('Problem 2a')\n",
    "\n",
    "theta1a = train_model_and_plot(df, features2b, target, alpha=0.1, iterations=1000, scale_method='normalize')"
   ]
  }
 ],
 "metadata": {
  "kernelspec": {
   "display_name": "Python 3 (ipykernel)",
   "language": "python",
   "name": "python3"
  },
  "language_info": {
   "codemirror_mode": {
    "name": "ipython",
    "version": 3
   },
   "file_extension": ".py",
   "mimetype": "text/x-python",
   "name": "python",
   "nbconvert_exporter": "python",
   "pygments_lexer": "ipython3",
   "version": "3.13.3"
  }
 },
 "nbformat": 4,
 "nbformat_minor": 5
}
